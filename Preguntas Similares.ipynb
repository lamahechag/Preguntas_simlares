{
 "cells": [
  {
   "cell_type": "markdown",
   "metadata": {},
   "source": [
    "## ANN for question matching\n",
    "\n",
    "- Measure Levenshtein distance $\\checkmark$\n",
    "\n",
    "- Measure intersection of words: normalized $\\checkmark$\n",
    "\n",
    "- Define type of words $\\checkmark$\n",
    "\n",
    "- Measure intersection of nouns: normalized by label nouns, then check if each is in the other synset. Count the number of shares.\n",
    "\n",
    "- Find in each phrase the first noun or name.\n",
    "\n",
    "- How similar the words tags are $\\checkmark$\n",
    "\n",
    "- Measure the question type: normalized\n",
    "\n",
    "- What, if we measure the entropy and information of each sentence and compare them ?\n"
   ]
  },
  {
   "cell_type": "code",
   "execution_count": 1,
   "metadata": {
    "collapsed": false
   },
   "outputs": [],
   "source": [
    "import pandas as pd\n",
    "import Levenshtein\n",
    "import numpy as np\n",
    "import nltk\n",
    "#nltk.download()\n",
    "from nltk.corpus import wordnet"
   ]
  },
  {
   "cell_type": "code",
   "execution_count": 2,
   "metadata": {
    "collapsed": false
   },
   "outputs": [],
   "source": [
    "test=pd.read_csv('test.csv',nrows=200)\n",
    "train=pd.read_csv('train.csv',nrows=200)\n",
    "sample_submission=pd.read_csv('sample_submission.csv',nrows=200)\n",
    "train.question1=train.question1.str.replace('?','').str.upper()\n",
    "train.question2=train.question2.str.replace('?','').str.upper()"
   ]
  },
  {
   "cell_type": "code",
   "execution_count": 23,
   "metadata": {
    "collapsed": false
   },
   "outputs": [],
   "source": [
    "def words_intersection(x,y):\n",
    "    shorter=min([len(x),len(y)])\n",
    "    common=set(x.split(' ')).intersection(y.split(' '))\n",
    "    return len(common)/float(shorter)\n",
    "\n",
    "def to_words_tags(s):\n",
    "    text=nltk.word_tokenize(s)\n",
    "    return ' '.join([x[1] for x in nltk.pos_tag(text)])\n",
    "def tags_distance(q1,q2):\n",
    "    q1 = to_words_tags(q1)\n",
    "    q2 = to_words_tags(q2)\n",
    "    return Levenshtein.ratio(q1,q2)\n",
    "\n",
    "train['intersection'] = train.apply(lambda x: words_intersection(x['question1'],x['question2']), axis=1) # normalized intersection\n",
    "train['similarity'] = train.apply(lambda x: Levenshtein.ratio(x['question1'],x['question2']), axis=1) # normalized Levenshtein\n",
    "train['tag_similarity'] = train.apply(lambda x: tags_distance(x['question1'],x['question2']), axis=1) # Levenshtein distance of tagged words "
   ]
  },
  {
   "cell_type": "code",
   "execution_count": 40,
   "metadata": {
    "collapsed": false
   },
   "outputs": [
    {
     "data": {
      "text/plain": [
       "['Tesla', 'series', 'inventions']"
      ]
     },
     "execution_count": 40,
     "metadata": {},
     "output_type": "execute_result"
    }
   ],
   "source": [
    "s = 'Tesla went on to try and develop a series of inventions'\n",
    "text=nltk.word_tokenize(s)\n",
    "[word for word, tag in nltk.pos_tag(text) if 'NN' in tag]"
   ]
  },
  {
   "cell_type": "code",
   "execution_count": 42,
   "metadata": {
    "collapsed": false
   },
   "outputs": [
    {
     "name": "stdout",
     "output_type": "stream",
     "text": [
      "Synset('series.n.01')\n",
      "Synset('serial.n.01')\n",
      "Synset('series.n.03')\n",
      "Synset('series.n.04')\n",
      "Synset('series.n.05')\n",
      "Synset('series.n.06')\n",
      "Synset('series.n.07')\n"
     ]
    }
   ],
   "source": [
    "# great good\n",
    "for i in wordnet.synsets('series'):\n",
    "    print (i)\n",
    "#wordnet.synset('car.n.01').lemma_names()"
   ]
  },
  {
   "cell_type": "code",
   "execution_count": 16,
   "metadata": {
    "collapsed": false
   },
   "outputs": [],
   "source": [
    "from sklearn.neural_network import MLPClassifier"
   ]
  },
  {
   "cell_type": "code",
   "execution_count": 17,
   "metadata": {
    "collapsed": false
   },
   "outputs": [],
   "source": [
    "X = [[0., 0.], [1., 1.]]\n",
    "y = [0, 1]"
   ]
  },
  {
   "cell_type": "code",
   "execution_count": 19,
   "metadata": {
    "collapsed": false
   },
   "outputs": [
    {
     "data": {
      "text/plain": [
       "MLPClassifier(activation='relu', alpha=1e-05, batch_size='auto', beta_1=0.9,\n",
       "       beta_2=0.999, early_stopping=False, epsilon=1e-08,\n",
       "       hidden_layer_sizes=(5, 2), learning_rate='constant',\n",
       "       learning_rate_init=0.001, max_iter=200, momentum=0.9,\n",
       "       nesterovs_momentum=True, power_t=0.5, random_state=1, shuffle=True,\n",
       "       solver='lbfgs', tol=0.0001, validation_fraction=0.1, verbose=False,\n",
       "       warm_start=False)"
      ]
     },
     "execution_count": 19,
     "metadata": {},
     "output_type": "execute_result"
    }
   ],
   "source": [
    "clf = MLPClassifier(solver='lbfgs', alpha=1e-5, hidden_layer_sizes=(5, 2), random_state=1)\n",
    "clf.fit(X, y)"
   ]
  },
  {
   "cell_type": "code",
   "execution_count": 29,
   "metadata": {
    "collapsed": false
   },
   "outputs": [
    {
     "name": "stderr",
     "output_type": "stream",
     "text": [
      "/home/lenovo/anaconda3/lib/python3.5/site-packages/sklearn/utils/validation.py:395: DeprecationWarning: Passing 1d arrays as data is deprecated in 0.17 and will raise ValueError in 0.19. Reshape your data either using X.reshape(-1, 1) if your data has a single feature or X.reshape(1, -1) if it contains a single sample.\n",
      "  DeprecationWarning)\n"
     ]
    },
    {
     "data": {
      "text/plain": [
       "array([0])"
      ]
     },
     "execution_count": 29,
     "metadata": {},
     "output_type": "execute_result"
    }
   ],
   "source": [
    "clf.predict([1,0])"
   ]
  },
  {
   "cell_type": "code",
   "execution_count": 34,
   "metadata": {
    "collapsed": false
   },
   "outputs": [
    {
     "name": "stderr",
     "output_type": "stream",
     "text": [
      "/home/lenovo/anaconda3/lib/python3.5/site-packages/sklearn/utils/validation.py:395: DeprecationWarning: Passing 1d arrays as data is deprecated in 0.17 and will raise ValueError in 0.19. Reshape your data either using X.reshape(-1, 1) if your data has a single feature or X.reshape(1, -1) if it contains a single sample.\n",
      "  DeprecationWarning)\n"
     ]
    },
    {
     "data": {
      "text/plain": [
       "array([[  1.00000000e+00,   1.56634271e-26]])"
      ]
     },
     "execution_count": 34,
     "metadata": {},
     "output_type": "execute_result"
    }
   ],
   "source": [
    "clf.predict_proba([1,0])"
   ]
  },
  {
   "cell_type": "code",
   "execution_count": null,
   "metadata": {
    "collapsed": true
   },
   "outputs": [],
   "source": []
  }
 ],
 "metadata": {
  "kernelspec": {
   "display_name": "Python 3",
   "language": "python",
   "name": "python3"
  },
  "language_info": {
   "codemirror_mode": {
    "name": "ipython",
    "version": 3
   },
   "file_extension": ".py",
   "mimetype": "text/x-python",
   "name": "python",
   "nbconvert_exporter": "python",
   "pygments_lexer": "ipython3",
   "version": "3.5.3"
  }
 },
 "nbformat": 4,
 "nbformat_minor": 0
}
